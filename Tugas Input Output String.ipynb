{
 "cells": [
  {
   "cell_type": "code",
   "execution_count": 3,
   "id": "76bf816d-fe33-439f-a62b-64976692de80",
   "metadata": {},
   "outputs": [
    {
     "name": "stdout",
     "output_type": "stream",
     "text": [
      "Biodata Sederhana\n"
     ]
    },
    {
     "name": "stdin",
     "output_type": "stream",
     "text": [
      "Masukkan Nama: R. Tb. Moh. Rizqi Wijaya\n",
      "Masukan Tempat Lahir: Sukabumi\n",
      "Masukan Tanggal Lahir (DD/MM/YYYY): 18/02/2004\n",
      "Masukkan umur Anda: 20 Tahun\n",
      "Masukan Jenis Kelamin: Laki - Laki\n",
      "Masukkan alamat Anda: Gelanggang Cisaat\n",
      "Masukan Kewarganegaraan: Indonesia\n"
     ]
    },
    {
     "name": "stdout",
     "output_type": "stream",
     "text": [
      "\n",
      "Berikut adalah biodata anda :\n",
      "Nama : R. Tb. Moh. Rizqi Wijaya\n",
      "Tempat, Tanggal Lahir : Sukabumi, 18/02/2004\n",
      "Umur : 20 Tahun\n",
      "Kelamin : Laki - Laki\n",
      "Alamat : Gelanggang Cisaat\n",
      "Negara : Indonesia\n",
      "\n"
     ]
    }
   ],
   "source": [
    "# Program Biodata Sederhana\n",
    "print(\"Biodata Sederhana\")\n",
    "\n",
    "# Input Code\n",
    "nama = input(\"Masukkan Nama:\")\n",
    "tempat_lahir = input(\"Masukan Tempat Lahir:\")\n",
    "tanggal_lahir = input(\"Masukan Tanggal Lahir (DD/MM/YYYY):\")\n",
    "umur = input(\"Masukkan umur Anda:\")\n",
    "kelamin = input(\"Masukan Jenis Kelamin:\")\n",
    "alamat = input(\"Masukkan alamat Anda:\")\n",
    "negara = input(\"Masukan Kewarganegaraan:\")\n",
    "\n",
    "# Output Codingan\n",
    "biodata = \"\"\"\n",
    "Berikut adalah biodata anda :\n",
    "Nama : {}\n",
    "Tempat, Tanggal Lahir : {}, {}\n",
    "Umur : {}\n",
    "Kelamin : {}\n",
    "Alamat : {}\n",
    "Negara : {}\n",
    "\"\"\".format(nama, tempat_lahir, tanggal_lahir, umur, kelamin, alamat, negara)\n",
    "\n",
    "# Show Biodata\n",
    "print(biodata)"
   ]
  },
  {
   "cell_type": "code",
   "execution_count": 11,
   "id": "90d59fbe-f544-4c23-92d4-69c6243c7758",
   "metadata": {},
   "outputs": [
    {
     "name": "stdout",
     "output_type": "stream",
     "text": [
      "a. putra nusa\n",
      "b. NIVERSITAS NSA PTRA SKABMI\n",
      "c. SUKABUMI PUTRA NUSA UNIVERSITAS\n",
      "d. UNPS\n",
      "e. TAS SAPU BUMI\n"
     ]
    }
   ],
   "source": [
    "kalimat = \"UNIVERSITAS NUSA PUTRA SUKABUMI\"\n",
    "\n",
    "# a. putra nusa\n",
    "kata1 = kalimat.split()[2]\n",
    "kata2 = kalimat.split()[1]\n",
    "print(f\"a. {kata1.lower()} {kata2.lower()}\")\n",
    "\n",
    "# b. NIVERSITAS NSA PTRA SKABMI\n",
    "kata3 = kalimat[1:11]\n",
    "kata4 = kalimat[12]\n",
    "kata5 = kalimat[14:16]\n",
    "kata6 = kalimat[17]\n",
    "kata7 = kalimat[19:22]\n",
    "kata8 = kalimat[23]\n",
    "kata9 = kalimat[25:28]\n",
    "kata10 = kalimat[29:31]\n",
    "print(f\"b. {kata3} {kata4}{kata5} {kata6}{kata7} {kata8}{kata9}{kata10}\")\n",
    "\n",
    "# c. SUKABUMI PUTRA NUSA UNIVERSITAS\n",
    "kata11 = kalimat.split()[3]\n",
    "kata12 = kalimat.split()[2]\n",
    "kata13 = kalimat.split()[1]\n",
    "kata14 = kalimat.split()[0]\n",
    "print(f\"c. {kata11} {kata12} {kata13} {kata14}\")\n",
    "\n",
    "# d. UNPS\n",
    "kata15 = kalimat[0]\n",
    "kata16 = kalimat[12]\n",
    "kata17 = kalimat[17]\n",
    "kata18 = kalimat[23]\n",
    "print(f\"d. {kata15}{kata16}{kata17}{kata18}\")\n",
    "\n",
    "# e. TAS SAPU BUMI\n",
    "kata19 = kalimat[8:11]\n",
    "kata20 = kalimat[14:16]\n",
    "kata21 = kalimat[17:19]\n",
    "kata22 = kalimat[27:31]\n",
    "print(f\"e. {kata19} {kata20}{kata21} {kata22}\")"
   ]
  }
 ],
 "metadata": {
  "kernelspec": {
   "display_name": "Python 3 (ipykernel)",
   "language": "python",
   "name": "python3"
  },
  "language_info": {
   "codemirror_mode": {
    "name": "ipython",
    "version": 3
   },
   "file_extension": ".py",
   "mimetype": "text/x-python",
   "name": "python",
   "nbconvert_exporter": "python",
   "pygments_lexer": "ipython3",
   "version": "3.11.7"
  }
 },
 "nbformat": 4,
 "nbformat_minor": 5
}
